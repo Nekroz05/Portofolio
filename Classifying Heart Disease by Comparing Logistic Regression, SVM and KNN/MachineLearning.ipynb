{
  "nbformat": 4,
  "nbformat_minor": 0,
  "metadata": {
    "interpreter": {
      "hash": "0a4f5ae0b846a2eb0a5023339c9db27e4d991fe8a1ea9de8252571f25cc1cd0c"
    },
    "kernelspec": {
      "display_name": "Python 3.7.6 64-bit",
      "name": "python3"
    },
    "language_info": {
      "codemirror_mode": {
        "name": "ipython",
        "version": 3
      },
      "file_extension": ".py",
      "mimetype": "text/x-python",
      "name": "python",
      "nbconvert_exporter": "python",
      "pygments_lexer": "ipython3",
      "version": "3.7.6"
    },
    "orig_nbformat": 4,
    "colab": {
      "name": "MachineLearning.ipynb",
      "provenance": [],
      "collapsed_sections": []
    }
  },
  "cells": [
    {
      "cell_type": "code",
      "metadata": {
        "id": "kyJDXFHnuO2H"
      },
      "source": [
        "import numpy as np\n",
        "import pandas as pd\n",
        "from sklearn.preprocessing import StandardScaler\n",
        "from sklearn.model_selection import train_test_split\n",
        "from sklearn.linear_model import LogisticRegression\n",
        "from sklearn.svm import SVC\n",
        "from sklearn.metrics import plot_confusion_matrix\n",
        "from sklearn.metrics import classification_report\n",
        "from sklearn.neighbors import KNeighborsClassifier\n",
        "import seaborn as sns\n",
        "from sklearn.metrics import confusion_matrix, r2_score\n",
        "import matplotlib.pyplot as plt"
      ],
      "execution_count": null,
      "outputs": []
    },
    {
      "cell_type": "code",
      "metadata": {
        "id": "6fa05hy8Z0ND"
      },
      "source": [
        "def dropoutlier(df,dfcol):\n",
        "    sorted(dfcol)\n",
        "    q1 = np.percentile(dfcol,25)\n",
        "    q3 = np.percentile(dfcol,75)\n",
        "    iqr = q3 - q1\n",
        "    lower = q1 - (1.5 * iqr) \n",
        "    upper = q3 + (1.5 * iqr)\n",
        "    indexoutlier = df[(dfcol < lower) | (dfcol > upper)].index\n",
        "    return df.drop(indexoutlier,inplace = True)"
      ],
      "execution_count": null,
      "outputs": []
    },
    {
      "cell_type": "code",
      "metadata": {
        "id": "--XVp6dDuO2J"
      },
      "source": [
        "df = pd.read_csv('./heart.csv')"
      ],
      "execution_count": null,
      "outputs": []
    },
    {
      "cell_type": "code",
      "metadata": {
        "id": "mjnYEjD-ZiiU"
      },
      "source": [
        "listt = [i for i in df.columns]\n",
        "list1 = listt[:round(len(listt)/2)]\n",
        "list2 = listt[round(len(listt)/2):]"
      ],
      "execution_count": null,
      "outputs": []
    },
    {
      "cell_type": "code",
      "metadata": {
        "colab": {
          "base_uri": "https://localhost:8080/",
          "height": 282
        },
        "id": "-LKSVTiNY0cF",
        "outputId": "e6b7c1d4-f68b-4e09-834b-533b394f8819"
      },
      "source": [
        "print(df.boxplot(column=list1))"
      ],
      "execution_count": null,
      "outputs": [
        {
          "output_type": "stream",
          "text": [
            "AxesSubplot(0.125,0.125;0.775x0.755)\n"
          ],
          "name": "stdout"
        },
        {
          "output_type": "display_data",
          "data": {
            "image/png": "[encoded data removed]",
            "text/plain": [
              "<Figure size 432x288 with 1 Axes>"
            ]
          },
          "metadata": {
            "tags": [],
            "needs_background": "light"
          }
        }
      ]
    },
    {
      "cell_type": "code",
      "metadata": {
        "colab": {
          "base_uri": "https://localhost:8080/",
          "height": 282
        },
        "id": "xob5NxwWZk0d",
        "outputId": "ae54e1e6-ac33-40c4-fef9-920dbd17613e"
      },
      "source": [
        "print(df.boxplot(column=list2))"
      ],
      "execution_count": null,
      "outputs": [
        {
          "output_type": "stream",
          "text": [
            "AxesSubplot(0.125,0.125;0.775x0.755)\n"
          ],
          "name": "stdout"
        },
        {
          "output_type": "display_data",
          "data": {
            "image/png": "[encoded data removed]",
            "text/plain": [
              "<Figure size 432x288 with 1 Axes>"
            ]
          },
          "metadata": {
            "tags": [],
            "needs_background": "light"
          }
        }
      ]
    },
    {
      "cell_type": "code",
      "metadata": {
        "id": "dm1A_RUQZ3Ll"
      },
      "source": [
        "dropoutlier(df,df['trtbps'])\n",
        "dropoutlier(df,df['chol'])\n",
        "dropoutlier(df,df['thalachh'])\n",
        "# dropoutlier(df,df['caa'])\n",
        "# dropoutlier(df,df['oldpeak'])\n",
        "# dropoutlier(df,df['thall'])"
      ],
      "execution_count": null,
      "outputs": []
    },
    {
      "cell_type": "code",
      "metadata": {
        "colab": {
          "base_uri": "https://localhost:8080/",
          "height": 282
        },
        "id": "OkFGih65Ox16",
        "outputId": "fea56825-da87-445b-b577-e1714429f4d7"
      },
      "source": [
        "listt = [i for i in df.columns]\n",
        "list1 = listt[:round(len(listt)/2)]\n",
        "list2 = listt[round(len(listt)/2):]\n",
        "print(df.boxplot(column=list1))"
      ],
      "execution_count": null,
      "outputs": [
        {
          "output_type": "stream",
          "text": [
            "AxesSubplot(0.125,0.125;0.775x0.755)\n"
          ],
          "name": "stdout"
        },
        {
          "output_type": "display_data",
          "data": {
            "image/png": "[encoded data removed]",
            "text/plain": [
              "<Figure size 432x288 with 1 Axes>"
            ]
          },
          "metadata": {
            "tags": [],
            "needs_background": "light"
          }
        }
      ]
    },
    {
      "cell_type": "code",
      "metadata": {
        "colab": {
          "base_uri": "https://localhost:8080/",
          "height": 282
        },
        "id": "hy5k1uRoO4RJ",
        "outputId": "68bfed4a-eb16-44f3-81d2-e619f276aaf0"
      },
      "source": [
        "print(df.boxplot(column=list2))"
      ],
      "execution_count": null,
      "outputs": [
        {
          "output_type": "stream",
          "text": [
            "AxesSubplot(0.125,0.125;0.775x0.755)\n"
          ],
          "name": "stdout"
        },
        {
          "output_type": "display_data",
          "data": {
            "image/png": "[encoded data removed]",
            "text/plain": [
              "<Figure size 432x288 with 1 Axes>"
            ]
          },
          "metadata": {
            "tags": [],
            "needs_background": "light"
          }
        }
      ]
    },
    {
      "cell_type": "code",
      "metadata": {
        "colab": {
          "base_uri": "https://localhost:8080/",
          "height": 352
        },
        "id": "bTqru50YRy-j",
        "outputId": "30744eaf-1b0f-424b-e391-28211d9699bd"
      },
      "source": [
        "sns.boxplot(df.thall)"
      ],
      "execution_count": null,
      "outputs": [
        {
          "output_type": "stream",
          "text": [
            "/usr/local/lib/python3.7/dist-packages/seaborn/_decorators.py:43: FutureWarning: Pass the following variable as a keyword arg: x. From version 0.12, the only valid positional argument will be `data`, and passing other arguments without an explicit keyword will result in an error or misinterpretation.\n",
            "  FutureWarning\n"
          ],
          "name": "stderr"
        },
        {
          "output_type": "execute_result",
          "data": {
            "text/plain": [
              "<matplotlib.axes._subplots.AxesSubplot at 0x7f55f2210990>"
            ]
          },
          "metadata": {
            "tags": []
          },
          "execution_count": 10
        },
        {
          "output_type": "display_data",
          "data": {
            "image/png": "[encoded data removed]",
            "text/plain": [
              "<Figure size 432x288 with 1 Axes>"
            ]
          },
          "metadata": {
            "tags": [],
            "needs_background": "light"
          }
        }
      ]
    },
    {
      "cell_type": "code",
      "metadata": {
        "colab": {
          "base_uri": "https://localhost:8080/",
          "height": 500
        },
        "id": "nF9aKZmy619y",
        "outputId": "98e1be3a-2721-4848-9ef5-cfae16806382"
      },
      "source": [
        "df.corr()"
      ],
      "execution_count": null,
      "outputs": [
        {
          "output_type": "execute_result",
          "data": {
            "text/html": [
              "<div>\n",
              "<style scoped>\n",
              "    .dataframe tbody tr th:only-of-type {\n",
              "        vertical-align: middle;\n",
              "    }\n",
              "\n",
              "    .dataframe tbody tr th {\n",
              "        vertical-align: top;\n",
              "    }\n",
              "\n",
              "    .dataframe thead th {\n",
              "        text-align: right;\n",
              "    }\n",
              "</style>\n",
              "<table border=\"1\" class=\"dataframe\">\n",
              "  <thead>\n",
              "    <tr style=\"text-align: right;\">\n",
              "      <th></th>\n",
              "      <th>age</th>\n",
              "      <th>sex</th>\n",
              "      <th>cp</th>\n",
              "      <th>trtbps</th>\n",
              "      <th>chol</th>\n",
              "      <th>fbs</th>\n",
              "      <th>restecg</th>\n",
              "      <th>thalachh</th>\n",
              "      <th>exng</th>\n",
              "      <th>oldpeak</th>\n",
              "      <th>slp</th>\n",
              "      <th>caa</th>\n",
              "      <th>thall</th>\n",
              "      <th>output</th>\n",
              "    </tr>\n",
              "  </thead>\n",
              "  <tbody>\n",
              "    <tr>\n",
              "      <th>age</th>\n",
              "      <td>1.000000</td>\n",
              "      <td>-0.071386</td>\n",
              "      <td>-0.067436</td>\n",
              "      <td>0.278311</td>\n",
              "      <td>0.171578</td>\n",
              "      <td>0.106912</td>\n",
              "      <td>-0.112577</td>\n",
              "      <td>-0.410794</td>\n",
              "      <td>0.092029</td>\n",
              "      <td>0.208542</td>\n",
              "      <td>-0.159846</td>\n",
              "      <td>0.291277</td>\n",
              "      <td>0.057004</td>\n",
              "      <td>-0.228234</td>\n",
              "    </tr>\n",
              "    <tr>\n",
              "      <th>sex</th>\n",
              "      <td>-0.071386</td>\n",
              "      <td>1.000000</td>\n",
              "      <td>-0.089162</td>\n",
              "      <td>-0.001140</td>\n",
              "      <td>-0.109624</td>\n",
              "      <td>0.064597</td>\n",
              "      <td>-0.062985</td>\n",
              "      <td>-0.046466</td>\n",
              "      <td>0.186678</td>\n",
              "      <td>0.136369</td>\n",
              "      <td>-0.055367</td>\n",
              "      <td>0.146295</td>\n",
              "      <td>0.231104</td>\n",
              "      <td>-0.313090</td>\n",
              "    </tr>\n",
              "    <tr>\n",
              "      <th>cp</th>\n",
              "      <td>-0.067436</td>\n",
              "      <td>-0.089162</td>\n",
              "      <td>1.000000</td>\n",
              "      <td>0.076154</td>\n",
              "      <td>-0.085538</td>\n",
              "      <td>0.087561</td>\n",
              "      <td>0.069639</td>\n",
              "      <td>0.295874</td>\n",
              "      <td>-0.389167</td>\n",
              "      <td>-0.160342</td>\n",
              "      <td>0.120752</td>\n",
              "      <td>-0.171360</td>\n",
              "      <td>-0.181110</td>\n",
              "      <td>0.426658</td>\n",
              "    </tr>\n",
              "    <tr>\n",
              "      <th>trtbps</th>\n",
              "      <td>0.278311</td>\n",
              "      <td>-0.001140</td>\n",
              "      <td>0.076154</td>\n",
              "      <td>1.000000</td>\n",
              "      <td>0.092908</td>\n",
              "      <td>0.121848</td>\n",
              "      <td>-0.146286</td>\n",
              "      <td>-0.074843</td>\n",
              "      <td>0.004900</td>\n",
              "      <td>0.162814</td>\n",
              "      <td>-0.092087</td>\n",
              "      <td>0.115997</td>\n",
              "      <td>0.008945</td>\n",
              "      <td>-0.120231</td>\n",
              "    </tr>\n",
              "    <tr>\n",
              "      <th>chol</th>\n",
              "      <td>0.171578</td>\n",
              "      <td>-0.109624</td>\n",
              "      <td>-0.085538</td>\n",
              "      <td>0.092908</td>\n",
              "      <td>1.000000</td>\n",
              "      <td>0.014047</td>\n",
              "      <td>-0.116839</td>\n",
              "      <td>-0.028074</td>\n",
              "      <td>0.081591</td>\n",
              "      <td>-0.009814</td>\n",
              "      <td>0.034565</td>\n",
              "      <td>0.069861</td>\n",
              "      <td>0.074629</td>\n",
              "      <td>-0.109798</td>\n",
              "    </tr>\n",
              "    <tr>\n",
              "      <th>fbs</th>\n",
              "      <td>0.106912</td>\n",
              "      <td>0.064597</td>\n",
              "      <td>0.087561</td>\n",
              "      <td>0.121848</td>\n",
              "      <td>0.014047</td>\n",
              "      <td>1.000000</td>\n",
              "      <td>-0.082142</td>\n",
              "      <td>-0.019601</td>\n",
              "      <td>0.004785</td>\n",
              "      <td>-0.005768</td>\n",
              "      <td>-0.057886</td>\n",
              "      <td>0.135886</td>\n",
              "      <td>-0.064576</td>\n",
              "      <td>-0.021873</td>\n",
              "    </tr>\n",
              "    <tr>\n",
              "      <th>restecg</th>\n",
              "      <td>-0.112577</td>\n",
              "      <td>-0.062985</td>\n",
              "      <td>0.069639</td>\n",
              "      <td>-0.146286</td>\n",
              "      <td>-0.116839</td>\n",
              "      <td>-0.082142</td>\n",
              "      <td>1.000000</td>\n",
              "      <td>0.077269</td>\n",
              "      <td>-0.098556</td>\n",
              "      <td>-0.045818</td>\n",
              "      <td>0.085000</td>\n",
              "      <td>-0.055994</td>\n",
              "      <td>0.014305</td>\n",
              "      <td>0.154995</td>\n",
              "    </tr>\n",
              "    <tr>\n",
              "      <th>thalachh</th>\n",
              "      <td>-0.410794</td>\n",
              "      <td>-0.046466</td>\n",
              "      <td>0.295874</td>\n",
              "      <td>-0.074843</td>\n",
              "      <td>-0.028074</td>\n",
              "      <td>-0.019601</td>\n",
              "      <td>0.077269</td>\n",
              "      <td>1.000000</td>\n",
              "      <td>-0.395863</td>\n",
              "      <td>-0.350694</td>\n",
              "      <td>0.386537</td>\n",
              "      <td>-0.238897</td>\n",
              "      <td>-0.121096</td>\n",
              "      <td>0.431206</td>\n",
              "    </tr>\n",
              "    <tr>\n",
              "      <th>exng</th>\n",
              "      <td>0.092029</td>\n",
              "      <td>0.186678</td>\n",
              "      <td>-0.389167</td>\n",
              "      <td>0.004900</td>\n",
              "      <td>0.081591</td>\n",
              "      <td>0.004785</td>\n",
              "      <td>-0.098556</td>\n",
              "      <td>-0.395863</td>\n",
              "      <td>1.000000</td>\n",
              "      <td>0.302253</td>\n",
              "      <td>-0.255747</td>\n",
              "      <td>0.115967</td>\n",
              "      <td>0.212837</td>\n",
              "      <td>-0.431165</td>\n",
              "    </tr>\n",
              "    <tr>\n",
              "      <th>oldpeak</th>\n",
              "      <td>0.208542</td>\n",
              "      <td>0.136369</td>\n",
              "      <td>-0.160342</td>\n",
              "      <td>0.162814</td>\n",
              "      <td>-0.009814</td>\n",
              "      <td>-0.005768</td>\n",
              "      <td>-0.045818</td>\n",
              "      <td>-0.350694</td>\n",
              "      <td>0.302253</td>\n",
              "      <td>1.000000</td>\n",
              "      <td>-0.560904</td>\n",
              "      <td>0.215227</td>\n",
              "      <td>0.192956</td>\n",
              "      <td>-0.444884</td>\n",
              "    </tr>\n",
              "    <tr>\n",
              "      <th>slp</th>\n",
              "      <td>-0.159846</td>\n",
              "      <td>-0.055367</td>\n",
              "      <td>0.120752</td>\n",
              "      <td>-0.092087</td>\n",
              "      <td>0.034565</td>\n",
              "      <td>-0.057886</td>\n",
              "      <td>0.085000</td>\n",
              "      <td>0.386537</td>\n",
              "      <td>-0.255747</td>\n",
              "      <td>-0.560904</td>\n",
              "      <td>1.000000</td>\n",
              "      <td>-0.076454</td>\n",
              "      <td>-0.088224</td>\n",
              "      <td>0.345785</td>\n",
              "    </tr>\n",
              "    <tr>\n",
              "      <th>caa</th>\n",
              "      <td>0.291277</td>\n",
              "      <td>0.146295</td>\n",
              "      <td>-0.171360</td>\n",
              "      <td>0.115997</td>\n",
              "      <td>0.069861</td>\n",
              "      <td>0.135886</td>\n",
              "      <td>-0.055994</td>\n",
              "      <td>-0.238897</td>\n",
              "      <td>0.115967</td>\n",
              "      <td>0.215227</td>\n",
              "      <td>-0.076454</td>\n",
              "      <td>1.000000</td>\n",
              "      <td>0.140098</td>\n",
              "      <td>-0.388963</td>\n",
              "    </tr>\n",
              "    <tr>\n",
              "      <th>thall</th>\n",
              "      <td>0.057004</td>\n",
              "      <td>0.231104</td>\n",
              "      <td>-0.181110</td>\n",
              "      <td>0.008945</td>\n",
              "      <td>0.074629</td>\n",
              "      <td>-0.064576</td>\n",
              "      <td>0.014305</td>\n",
              "      <td>-0.121096</td>\n",
              "      <td>0.212837</td>\n",
              "      <td>0.192956</td>\n",
              "      <td>-0.088224</td>\n",
              "      <td>0.140098</td>\n",
              "      <td>1.000000</td>\n",
              "      <td>-0.347019</td>\n",
              "    </tr>\n",
              "    <tr>\n",
              "      <th>output</th>\n",
              "      <td>-0.228234</td>\n",
              "      <td>-0.313090</td>\n",
              "      <td>0.426658</td>\n",
              "      <td>-0.120231</td>\n",
              "      <td>-0.109798</td>\n",
              "      <td>-0.021873</td>\n",
              "      <td>0.154995</td>\n",
              "      <td>0.431206</td>\n",
              "      <td>-0.431165</td>\n",
              "      <td>-0.444884</td>\n",
              "      <td>0.345785</td>\n",
              "      <td>-0.388963</td>\n",
              "      <td>-0.347019</td>\n",
              "      <td>1.000000</td>\n",
              "    </tr>\n",
              "  </tbody>\n",
              "</table>\n",
              "</div>"
            ],
            "text/plain": [
              "               age       sex        cp  ...       caa     thall    output\n",
              "age       1.000000 -0.071386 -0.067436  ...  0.291277  0.057004 -0.228234\n",
              "sex      -0.071386  1.000000 -0.089162  ...  0.146295  0.231104 -0.313090\n",
              "cp       -0.067436 -0.089162  1.000000  ... -0.171360 -0.181110  0.426658\n",
              "trtbps    0.278311 -0.001140  0.076154  ...  0.115997  0.008945 -0.120231\n",
              "chol      0.171578 -0.109624 -0.085538  ...  0.069861  0.074629 -0.109798\n",
              "fbs       0.106912  0.064597  0.087561  ...  0.135886 -0.064576 -0.021873\n",
              "restecg  -0.112577 -0.062985  0.069639  ... -0.055994  0.014305  0.154995\n",
              "thalachh -0.410794 -0.046466  0.295874  ... -0.238897 -0.121096  0.431206\n",
              "exng      0.092029  0.186678 -0.389167  ...  0.115967  0.212837 -0.431165\n",
              "oldpeak   0.208542  0.136369 -0.160342  ...  0.215227  0.192956 -0.444884\n",
              "slp      -0.159846 -0.055367  0.120752  ... -0.076454 -0.088224  0.345785\n",
              "caa       0.291277  0.146295 -0.171360  ...  1.000000  0.140098 -0.388963\n",
              "thall     0.057004  0.231104 -0.181110  ...  0.140098  1.000000 -0.347019\n",
              "output   -0.228234 -0.313090  0.426658  ... -0.388963 -0.347019  1.000000\n",
              "\n",
              "[14 rows x 14 columns]"
            ]
          },
          "metadata": {
            "tags": []
          },
          "execution_count": 11
        }
      ]
    },
    {
      "cell_type": "code",
      "metadata": {
        "id": "t9MsCWjbuO2K",
        "colab": {
          "base_uri": "https://localhost:8080/"
        },
        "outputId": "37215f16-5a32-417d-df5a-0ed157b1dd98"
      },
      "source": [
        "Correlation = df.corr()\n",
        "Correlation['output'].abs().sort_values(ascending = False)"
      ],
      "execution_count": null,
      "outputs": [
        {
          "output_type": "execute_result",
          "data": {
            "text/plain": [
              "output      1.000000\n",
              "oldpeak     0.444884\n",
              "thalachh    0.431206\n",
              "exng        0.431165\n",
              "cp          0.426658\n",
              "caa         0.388963\n",
              "thall       0.347019\n",
              "slp         0.345785\n",
              "sex         0.313090\n",
              "age         0.228234\n",
              "restecg     0.154995\n",
              "trtbps      0.120231\n",
              "chol        0.109798\n",
              "fbs         0.021873\n",
              "Name: output, dtype: float64"
            ]
          },
          "metadata": {
            "tags": []
          },
          "execution_count": 12
        }
      ]
    },
    {
      "cell_type": "code",
      "metadata": {
        "id": "axOIuHJDuO2K"
      },
      "source": [
        "listfeature = ['oldpeak','thalachh','cp','caa','slp','thall','slp','sex']"
      ],
      "execution_count": null,
      "outputs": []
    },
    {
      "cell_type": "code",
      "metadata": {
        "id": "vYtiyWW0uO2L"
      },
      "source": [
        "label = df['output']\n",
        "features = df[listfeature]"
      ],
      "execution_count": null,
      "outputs": []
    },
    {
      "cell_type": "code",
      "metadata": {
        "id": "Gd2DZQ15uO2L"
      },
      "source": [
        "x_train,x_test,y_train,y_test = train_test_split(features,label,test_size=0.3, random_state = 42)"
      ],
      "execution_count": null,
      "outputs": []
    },
    {
      "cell_type": "code",
      "metadata": {
        "id": "bN2bSjZYYlgv"
      },
      "source": [
        "scaler = StandardScaler().fit(x_train)\n",
        "x_train = scaler.transform(x_train)\n",
        "x_test = scaler.transform(x_test)"
      ],
      "execution_count": null,
      "outputs": []
    },
    {
      "cell_type": "markdown",
      "metadata": {
        "id": "XjZMv6H8hH_2"
      },
      "source": [
        "# Logistic Regression"
      ]
    },
    {
      "cell_type": "markdown",
      "metadata": {
        "id": "5QcdVJavuHpf"
      },
      "source": [
        "## Manual"
      ]
    },
    {
      "cell_type": "code",
      "metadata": {
        "id": "Or8f5Dqphp2Y"
      },
      "source": [
        "def sigmoid(z):\n",
        "    return 1.0/(1 + np.exp(-z))"
      ],
      "execution_count": null,
      "outputs": []
    },
    {
      "cell_type": "code",
      "metadata": {
        "id": "h8oeaqkph7Ax"
      },
      "source": [
        "def loss(y, y_hat): #MSE\n",
        "    loss = -np.mean(y*(np.log(y_hat)) - (1-y)*np.log(1-y_hat))\n",
        "    return loss"
      ],
      "execution_count": null,
      "outputs": []
    },
    {
      "cell_type": "code",
      "metadata": {
        "id": "Y5yDvBgihneE"
      },
      "source": [
        "def gradients(X, y, y_hat):\n",
        "    m = X.shape[0] #Jumlah Row\n",
        "    dw = (1/m)*np.dot(X.T, (y_hat - y)) #gradient Weight \n",
        "    db = (1/m)*np.sum((y_hat - y)) #Gradient Bias\n",
        "    return dw, db"
      ],
      "execution_count": null,
      "outputs": []
    },
    {
      "cell_type": "code",
      "metadata": {
        "id": "xYwGVVBJhHdH"
      },
      "source": [
        "def train(X, y, bs, epochs, lr):\n",
        "    m, n = X.shape\n",
        "    w = np.zeros((n,1))\n",
        "    b = 0\n",
        "\n",
        "    y = y.reshape(m,1)\n",
        "    losses = []\n",
        "    for epoch in range(epochs):\n",
        "        for i in range((m-1)//bs + 1):\n",
        "            start_i = i*bs\n",
        "            end_i = start_i + bs\n",
        "            xb = X[start_i:end_i]\n",
        "            yb = y[start_i:end_i]\n",
        "            y_hat = sigmoid(np.dot(xb, w) + b)\n",
        "            dw, db = gradients(xb, yb, y_hat)\n",
        "            w -= lr*dw\n",
        "            b -= lr*db\n",
        "        l = loss(y, sigmoid(np.dot(X, w) + b))\n",
        "        losses.append(l)\n",
        "        \n",
        "    return w, b, losses"
      ],
      "execution_count": null,
      "outputs": []
    },
    {
      "cell_type": "code",
      "metadata": {
        "id": "dNamhsjphMAT"
      },
      "source": [
        "def predict(X):\n",
        "    preds = sigmoid(np.dot(X, w) + b)\n",
        "    pred_class = []\n",
        "    pred_class = [1 if i > 0.5 else 0 for i in preds]\n",
        "    \n",
        "    return np.array(pred_class)"
      ],
      "execution_count": null,
      "outputs": []
    },
    {
      "cell_type": "code",
      "metadata": {
        "id": "RINjIJg6aOBk"
      },
      "source": [
        "def accuracy(y, y_hat):\n",
        "    accuracy = np.sum(y == y_hat) / len(y)\n",
        "    return accuracy"
      ],
      "execution_count": null,
      "outputs": []
    },
    {
      "cell_type": "code",
      "metadata": {
        "colab": {
          "base_uri": "https://localhost:8080/"
        },
        "id": "yPlzsHonmyLA",
        "outputId": "d0a97897-2304-4402-8125-dcc08e7854db"
      },
      "source": [
        "x_train.shape"
      ],
      "execution_count": null,
      "outputs": [
        {
          "output_type": "execute_result",
          "data": {
            "text/plain": [
              "(201, 8)"
            ]
          },
          "metadata": {
            "tags": []
          },
          "execution_count": 23
        }
      ]
    },
    {
      "cell_type": "code",
      "metadata": {
        "id": "SIr5gp15hR4m"
      },
      "source": [
        "# Training \n",
        "w, b, l = train(x_train, np.array(y_train), bs=30, epochs=10000, lr=0.3)\n",
        "pred_logistic_manual = predict(x_test)\n",
        "y_test_s = np.array(y_test).reshape(-1,1)\n",
        "pred_logistic_manual = np.array(pred_logistic_manual).reshape(-1,1)"
      ],
      "execution_count": null,
      "outputs": []
    },
    {
      "cell_type": "code",
      "metadata": {
        "id": "df-vXymTioT7"
      },
      "source": [
        "y_test_s = y_test_s.flatten()"
      ],
      "execution_count": null,
      "outputs": []
    },
    {
      "cell_type": "code",
      "metadata": {
        "id": "rW31_VuvjN5_"
      },
      "source": [
        "pred_logistic_manual = pred_logistic_manual.flatten()"
      ],
      "execution_count": null,
      "outputs": []
    },
    {
      "cell_type": "code",
      "metadata": {
        "id": "C4W35S0MkM6x"
      },
      "source": [
        "cm_logistic_manual = confusion_matrix(y_test_s,pred_logistic_manual)"
      ],
      "execution_count": null,
      "outputs": []
    },
    {
      "cell_type": "code",
      "metadata": {
        "colab": {
          "base_uri": "https://localhost:8080/",
          "height": 423
        },
        "id": "sU4OZjJqh85F",
        "outputId": "74c1f618-8e76-4adf-c21d-a1a473756ad9"
      },
      "source": [
        "sns.heatmap(cm_logistic_manual, annot = True)\n",
        "print(classification_report(y_test_s,pred_logistic_manual))"
      ],
      "execution_count": null,
      "outputs": [
        {
          "output_type": "stream",
          "text": [
            "              precision    recall  f1-score   support\n",
            "\n",
            "           0       0.87      0.94      0.91        36\n",
            "           1       0.96      0.90      0.93        51\n",
            "\n",
            "    accuracy                           0.92        87\n",
            "   macro avg       0.92      0.92      0.92        87\n",
            "weighted avg       0.92      0.92      0.92        87\n",
            "\n"
          ],
          "name": "stdout"
        },
        {
          "output_type": "display_data",
          "data": {
            "image/png": "[encoded data removed]",
            "text/plain": [
              "<Figure size 432x288 with 2 Axes>"
            ]
          },
          "metadata": {
            "tags": [],
            "needs_background": "light"
          }
        }
      ]
    },
    {
      "cell_type": "code",
      "metadata": {
        "colab": {
          "base_uri": "https://localhost:8080/"
        },
        "id": "sU9dSZJMmCsl",
        "outputId": "78964fb6-92c4-4cbf-9d17-84716dadd850"
      },
      "source": [
        "accuracy(y_test, pred_logistic_manual)"
      ],
      "execution_count": null,
      "outputs": [
        {
          "output_type": "execute_result",
          "data": {
            "text/plain": [
              "0.9195402298850575"
            ]
          },
          "metadata": {
            "tags": []
          },
          "execution_count": 30
        }
      ]
    },
    {
      "cell_type": "markdown",
      "metadata": {
        "id": "r631YVm4pyOm"
      },
      "source": [
        "# SKLEARN"
      ]
    },
    {
      "cell_type": "code",
      "metadata": {
        "id": "yq2dT2W2uO2L",
        "colab": {
          "base_uri": "https://localhost:8080/",
          "height": 455
        },
        "outputId": "b675ae83-4d2f-411c-b1eb-4875b9a54907"
      },
      "source": [
        "logistic_regression = LogisticRegression().fit(x_train,y_train)\n",
        "y_pred_logistic = logistic_regression.predict(x_test)\n",
        "accuracy_logistic = logistic_regression.score(x_test,y_test)\n",
        "\n",
        "print(f\"Accuracy logistic Regression : {accuracy_logistic*100: .2f}%\")\n",
        "\n",
        "cm_logistic = plot_confusion_matrix(logistic_regression,x_test,y_test)\n",
        "\n",
        "print(classification_report(y_test,y_pred_logistic))"
      ],
      "execution_count": null,
      "outputs": [
        {
          "output_type": "stream",
          "text": [
            "Accuracy logistic Regression :  91.95%\n",
            "              precision    recall  f1-score   support\n",
            "\n",
            "           0       0.87      0.94      0.91        36\n",
            "           1       0.96      0.90      0.93        51\n",
            "\n",
            "    accuracy                           0.92        87\n",
            "   macro avg       0.92      0.92      0.92        87\n",
            "weighted avg       0.92      0.92      0.92        87\n",
            "\n"
          ],
          "name": "stdout"
        },
        {
          "output_type": "display_data",
          "data": {
            "image/png": "[encoded data removed]",
            "text/plain": [
              "<Figure size 432x288 with 2 Axes>"
            ]
          },
          "metadata": {
            "tags": [],
            "needs_background": "light"
          }
        }
      ]
    },
    {
      "cell_type": "markdown",
      "metadata": {
        "id": "IXnxkh6juLnH"
      },
      "source": [
        "# SVM"
      ]
    },
    {
      "cell_type": "code",
      "metadata": {
        "id": "eGZxvj2UuO2M",
        "colab": {
          "base_uri": "https://localhost:8080/",
          "height": 455
        },
        "outputId": "238cd909-330f-40d7-80bd-5d61d093a2f9"
      },
      "source": [
        "SVC = SVC().fit(x_train,y_train)\n",
        "y_pred_svc = SVC.predict(x_test)\n",
        "accuracy_svc = SVC.score(x_test,y_test)\n",
        "\n",
        "print(f\"Accuracy SVC: {accuracy_svc*100: .2f}%\")\n",
        "\n",
        "cm_SVC = plot_confusion_matrix(SVC,x_test,y_test)\n",
        "print(classification_report(y_test,y_pred_svc))"
      ],
      "execution_count": null,
      "outputs": [
        {
          "output_type": "stream",
          "text": [
            "Accuracy SVC:  85.06%\n",
            "              precision    recall  f1-score   support\n",
            "\n",
            "           0       0.77      0.92      0.84        36\n",
            "           1       0.93      0.80      0.86        51\n",
            "\n",
            "    accuracy                           0.85        87\n",
            "   macro avg       0.85      0.86      0.85        87\n",
            "weighted avg       0.86      0.85      0.85        87\n",
            "\n"
          ],
          "name": "stdout"
        },
        {
          "output_type": "display_data",
          "data": {
            "image/png": "[encoded data removed]",
            "text/plain": [
              "<Figure size 432x288 with 2 Axes>"
            ]
          },
          "metadata": {
            "tags": [],
            "needs_background": "light"
          }
        }
      ]
    },
    {
      "cell_type": "markdown",
      "metadata": {
        "id": "P8_7Xv3Zonis"
      },
      "source": [
        "# K-Nearest Neighbor"
      ]
    },
    {
      "cell_type": "code",
      "metadata": {
        "id": "cib6Smcx-vgP"
      },
      "source": [
        "error_rate = []\n",
        "for i in range(1,40):\n",
        " knn = KNeighborsClassifier(n_neighbors=i)\n",
        " knn.fit(x_train,y_train)\n",
        " pred_i = knn.predict(x_test)\n",
        " error_rate.append(np.mean(pred_i != y_test))"
      ],
      "execution_count": null,
      "outputs": []
    },
    {
      "cell_type": "code",
      "metadata": {
        "colab": {
          "base_uri": "https://localhost:8080/",
          "height": 404
        },
        "id": "daX7BWYvdC2V",
        "outputId": "ea2fe574-4383-4a3f-f998-a4c553640409"
      },
      "source": [
        "plt.figure(figsize=(10,6))\n",
        "plt.plot(range(1,40),error_rate,color='blue', linestyle='dashed', marker='o',markerfacecolor='red', markersize=10)\n",
        "plt.title('Error Rate vs. K Value')\n",
        "plt.xlabel('K')\n",
        "plt.ylabel('Error')\n",
        "plt.show()"
      ],
      "execution_count": null,
      "outputs": [
        {
          "output_type": "display_data",
          "data": {
            "image/png": "[encoded data removed]",
            "text/plain": [
              "<Figure size 720x432 with 1 Axes>"
            ]
          },
          "metadata": {
            "tags": [],
            "needs_background": "light"
          }
        }
      ]
    },
    {
      "cell_type": "code",
      "metadata": {
        "id": "c-MqROmF6Npi",
        "colab": {
          "base_uri": "https://localhost:8080/",
          "height": 455
        },
        "outputId": "f7b388d2-31fa-4bc0-b91d-f5e2c1c4fc6c"
      },
      "source": [
        "KNN = KNeighborsClassifier(n_neighbors= 25).fit(x_train, y_train)\n",
        "y_pred_KNN = KNN.predict(x_test)\n",
        "accuracy_KNN = KNN.score(x_test, y_test)\n",
        "print(f\"Accuracy KNN: {accuracy_KNN*100: .2f}%\")\n",
        "\n",
        "cm_KNN = plot_confusion_matrix(KNN,x_test,y_test)\n",
        "print(classification_report(y_test,y_pred_KNN))"
      ],
      "execution_count": null,
      "outputs": [
        {
          "output_type": "stream",
          "text": [
            "Accuracy KNN:  86.21%\n",
            "              precision    recall  f1-score   support\n",
            "\n",
            "           0       0.82      0.86      0.84        36\n",
            "           1       0.90      0.86      0.88        51\n",
            "\n",
            "    accuracy                           0.86        87\n",
            "   macro avg       0.86      0.86      0.86        87\n",
            "weighted avg       0.86      0.86      0.86        87\n",
            "\n"
          ],
          "name": "stdout"
        },
        {
          "output_type": "display_data",
          "data": {
            "image/png": "[encoded data removed]",
            "text/plain": [
              "<Figure size 432x288 with 2 Axes>"
            ]
          },
          "metadata": {
            "tags": [],
            "needs_background": "light"
          }
        }
      ]
    }
  ]
}